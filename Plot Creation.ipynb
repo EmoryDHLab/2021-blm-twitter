{
 "cells": [
  {
   "cell_type": "markdown",
   "id": "d000406f",
   "metadata": {},
   "source": [
    "# Plot Measurement Notebook\n",
    "Here is the library for functions used to compare different years."
   ]
  },
  {
   "cell_type": "code",
   "execution_count": 54,
   "id": "35fe97c0",
   "metadata": {},
   "outputs": [],
   "source": [
    "import sys\n",
    "import csv\n",
    "import matplotlib.pyplot as plt\n",
    "import pandas as pd\n",
    "import re\n",
    "from scipy.signal import argrelextrema\n",
    "import numpy as np\n",
    "\n",
    "\n",
    "def days_since(og_date):\n",
    "    if re.match(\"20\\d\\d-\\d\\d-\\d\\d\", str(og_date)) is None: return -1\n",
    "    year = int(og_date[0:4])\n",
    "    month = int(og_date[5:7])\n",
    "    day = int(og_date[8:10])\n",
    "    daycount = 0\n",
    "    daycount += day - 1\n",
    "\n",
    "    #next, do the months\n",
    "    while(month > 1):\n",
    "        if month == 2:\n",
    "            if(year == 2016 or year == 2020): daycount += 29\n",
    "            else: daycount += 28\n",
    "        elif month == 1 or month == 3 or month == 5 or month == 7 or month == 8 or month == 10 or month == 12:\n",
    "            daycount += 31\n",
    "        else: daycount += 30\n",
    "        month -= 1\n",
    "\n",
    "    while(year > 2014):\n",
    "        if year == 2020 or year == 2016:\n",
    "            daycount += 366\n",
    "        else: daycount += 365\n",
    "        year -= 1\n",
    "    return(daycount)\n",
    "\n",
    "\n",
    "\n",
    "def get_table(ogfile):\n",
    "    with open(ogfile) as make_dates:\n",
    "        make_dates_reader = make_dates.read() + \"\\n\"\n",
    "    match = re.findall(\"20\\d\\d-\\d\\d-\\d\\d\", make_dates_reader)\n",
    "    dates_lib = dict()\n",
    "    for row in match:\n",
    "        if dates_lib.get(days_since(row),0) == 0:\n",
    "            dates_lib[days_since(row)] = 1\n",
    "        else: dates_lib[days_since(row)] += 1\n",
    "    \n",
    "    data = pd.DataFrame.from_dict(list(dates_lib.items()))\n",
    "    data.columns = [\"days_since\", \"frequency\"]\n",
    "    data = data.sort_values(by = ['days_since'])\n",
    "\n",
    "    \n",
    "    return data\n",
    "\n",
    "def make_bins(data, mode, use_bin_numbers = False, bintervals = 0):\n",
    "    final_list = []\n",
    "\n",
    "\n",
    "    if mode == \"localmaxmin\":\n",
    "        to_append = data.iloc[argrelextrema(data.frequency.values, np.less,\n",
    "                    order=80)[0]]['days_since']\n",
    "        to_append = to_append.tolist()\n",
    "        for row in to_append:\n",
    "            final_list.append([row, -1])\n",
    "\n",
    "\n",
    "    elif mode == \"time\":\n",
    "        x = 159\n",
    "        while x < data.iloc[-1][0]:\n",
    "            final_list.append([x, -1])\n",
    "            x += bintervals\n",
    "\n",
    "\n",
    "    elif mode == \"tweets\":\n",
    "        if use_bin_numbers:\n",
    "            if bintervals == 0: raise Exception(\"Specify a number of bins please!\")\n",
    "            tweet_cap = int((data.sum()[1]) / bintervals)\n",
    "            makebins(data, mode, bintervals = tweet_cap)\n",
    "\n",
    "        else:\n",
    "            x = 0\n",
    "            exhaust = 0\n",
    "            while x < len(data):\n",
    "                if exhaust + data.iloc[x][1] > bintervals:\n",
    "                    final_list.append([data.iloc[x][0], x])\n",
    "                    exhaust = 0\n",
    "                    x += 1\n",
    "                else:\n",
    "                    exhaust += data.iloc[x][1]\n",
    "                    x += 1\n",
    "    elif mode == \"threshold\"\"\n",
    "        \n",
    "\n",
    "    else: raise Exception(\"Please use 'time', 'tweets', or 'localmaxmin'\")\n",
    "\n",
    "    return final_list\n",
    "\n",
    "\n",
    "def make_plot(data, bins = None):\n",
    "    plt.plot(data['days_since'], data['frequency'])\n",
    "    if bins is not None:\n",
    "        for x in range(len(bins)):\n",
    "            plt.axvline(x = bins[x][0], color = 'r', label = bins[x][0])\n",
    "    if bins is not None:\n",
    "        plt.savefig(\"plot_binned.jpg\")\n",
    "    else: plt.savefig(\"plot.jpg\")\n",
    "    print(\"The indices of bin partitions are located at the first value in each pair in the following array:\")\n",
    "    print(bins)\n",
    "    plt.show()\n",
    "data = get_table(\"merged_random_sample.csv\")"
   ]
  },
  {
   "cell_type": "markdown",
   "id": "c92581d0",
   "metadata": {},
   "source": [
    "### Method One: Tweets\n",
    "Here's sample \\#1, which uses tweet counts to varying degrees. I've added an implementation where you should be able to specify the amount of bins you want, but this feature is buggy for the time being due to rounding errors. You can adjust *bintervals* to see how many bins are created and where."
   ]
  },
  {
   "cell_type": "code",
   "execution_count": 50,
   "id": "969b85a1",
   "metadata": {
    "scrolled": true
   },
   "outputs": [
    {
     "name": "stdout",
     "output_type": "stream",
     "text": [
      "The indices of bin partitions are located at the first value in each pair in the following array:\n",
      "[[266, 55], [337, 120], [534, 288], [1317, 702], [2341, 957], [2343, 959], [2346, 962], [2354, 970], [2401, 1016]]\n"
     ]
    },
    {
     "data": {
      "image/png": "[encoded data removed]",
      "text/plain": [
       "<Figure size 432x288 with 1 Axes>"
      ]
     },
     "metadata": {
      "needs_background": "light"
     },
     "output_type": "display_data"
    }
   ],
   "source": [
    "bins = make_bins(data, \"tweets\", bintervals = 1000)\n",
    "make_plot(data, bins)"
   ]
  },
  {
   "cell_type": "markdown",
   "id": "1068530a",
   "metadata": {},
   "source": [
    "### Method Two: Time\n",
    "Sample \\#2 uses days since as the *bintervals* variable. Once again, adjusting the value will change the cap for how many days."
   ]
  },
  {
   "cell_type": "code",
   "execution_count": 22,
   "id": "2816cc24",
   "metadata": {},
   "outputs": [
    {
     "name": "stdout",
     "output_type": "stream",
     "text": [
      "The indices of bin partitions are located at the first value in each pair in the following array:\n",
      "[[159, -1], [409, -1], [659, -1], [909, -1], [1159, -1], [1409, -1], [1659, -1], [1909, -1], [2159, -1], [2409, -1]]\n"
     ]
    },
    {
     "data": {
      "image/png": "[encoded data removed]",
      "text/plain": [
       "<Figure size 432x288 with 1 Axes>"
      ]
     },
     "metadata": {
      "needs_background": "light"
     },
     "output_type": "display_data"
    }
   ],
   "source": [
    "bins = make_bins(data, \"time\", bintervals = 250)\n",
    "make_plot(data, bins)"
   ]
  },
  {
   "cell_type": "markdown",
   "id": "19f5468d",
   "metadata": {},
   "source": [
    "### Method Three: Local max, min\n",
    "*bintervals* here modifies the order of magnitude for localmaxmin. I cannot really explain what changing the order of magnitude has done, as different uses have given me different experiences."
   ]
  },
  {
   "cell_type": "code",
   "execution_count": 56,
   "id": "7fdf7f4e",
   "metadata": {
    "scrolled": true
   },
   "outputs": [
    {
     "name": "stdout",
     "output_type": "stream",
     "text": [
      "The indices of bin partitions are located at the first value in each pair in the following array:\n",
      "[]\n"
     ]
    },
    {
     "data": {
      "image/png": "[encoded data removed]",
      "text/plain": [
       "<Figure size 432x288 with 1 Axes>"
      ]
     },
     "metadata": {
      "needs_background": "light"
     },
     "output_type": "display_data"
    }
   ],
   "source": [
    "data = get_table(\"merged_random_sample.csv\")\n",
    "bins = make_bins(data, \"localmaxmin\", bintervals = 0)\n",
    "make_plot(data, bins)"
   ]
  },
  {
   "cell_type": "code",
   "execution_count": null,
   "id": "c7104a58",
   "metadata": {},
   "outputs": [],
   "source": [
    "##When bin exceeds x, new trough. but we go to lowest low point and extend to next lowest low point"
   ]
  }
 ],
 "metadata": {
  "kernelspec": {
   "display_name": "Python 3",
   "language": "python",
   "name": "python3"
  },
  "language_info": {
   "codemirror_mode": {
    "name": "ipython",
    "version": 3
   },
   "file_extension": ".py",
   "mimetype": "text/x-python",
   "name": "python",
   "nbconvert_exporter": "python",
   "pygments_lexer": "ipython3",
   "version": "3.8.8"
  }
 },
 "nbformat": 4,
 "nbformat_minor": 5
}
